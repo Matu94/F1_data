{
 "cells": [
  {
   "cell_type": "markdown",
   "id": "6f0e7535",
   "metadata": {},
   "source": [
    "# How to\n",
    "\n"
   ]
  },
  {
   "cell_type": "markdown",
   "id": "4d1699ad",
   "metadata": {},
   "source": [
    "## Step 1: Get all the \"meetings\" \n",
    "endpoint: https://api.openf1.org/v1/meetings \n",
    "docs: https://openf1.org/#meetings"
   ]
  },
  {
   "cell_type": "markdown",
   "id": "49544347",
   "metadata": {},
   "source": [
    "## Step 2: Get all the \"sessions\" \n",
    "endpoint: https://api.openf1.org/v1/sessions \n",
    "docs: https://openf1.org/#sessions"
   ]
  },
  {
   "cell_type": "markdown",
   "id": "d950fadf",
   "metadata": {},
   "source": [
    "## Step 3: Get the positions\n",
    "endpoint: https://api.openf1.org/v1/position docs:https://openf1.org/#position"
   ]
  },
  {
   "cell_type": "markdown",
   "id": "3857697d",
   "metadata": {},
   "source": [
    "With this 3, I'm able to get all the result for each race. From the meetings, we only need the \"meeting key\". With that we are able to retrive the "
   ]
  },
  {
   "cell_type": "markdown",
   "id": "1346c8dd",
   "metadata": {},
   "source": [
    "Forget it, probably it is enough if i only use the session. Retrive all the data, store it. It has 2 key columns: \"session_type\" (should be race in my case) and \"session_key\". I need this key for the last api call, to get all the position changes from a race. Once i have all, I can select only those ones, which represents the final status. "
   ]
  },
  {
   "cell_type": "markdown",
   "id": "7ba13da6",
   "metadata": {},
   "source": [
    "E.g.: https://api.openf1.org/v1/position?session_key=7779"
   ]
  },
  {
   "cell_type": "markdown",
   "id": "7d8e98f4",
   "metadata": {},
   "source": [
    "Probably i also need the /drivers table to have the names"
   ]
  },
  {
   "cell_type": "code",
   "execution_count": 13,
   "id": "fa149609",
   "metadata": {},
   "outputs": [
    {
     "name": "stdout",
     "output_type": "stream",
     "text": [
      "{\n",
      "  \"meeting_key\": 1140,\n",
      "  \"circuit_key\": 63,\n",
      "  \"circuit_short_name\": \"Sakhir\",\n",
      "  \"meeting_code\": \"BRN\",\n",
      "  \"location\": \"Sakhir\",\n",
      "  \"country_key\": 36,\n",
      "  \"country_code\": \"BRN\",\n",
      "  \"country_name\": \"Bahrain\",\n",
      "  \"meeting_name\": \"Pre-Season Testing\",\n",
      "  \"meeting_official_name\": \"FORMULA 1 ARAMCO PRE-SEASON TESTING 2023\",\n",
      "  \"gmt_offset\": \"03:00:00\",\n",
      "  \"date_start\": \"2023-02-23T07:00:00+00:00\",\n",
      "  \"year\": 2023\n",
      "}\n",
      "{\n",
      "  \"meeting_key\": 1141,\n",
      "  \"circuit_key\": 63,\n",
      "  \"circuit_short_name\": \"Sakhir\",\n",
      "  \"meeting_code\": \"BRN\",\n",
      "  \"location\": \"Sakhir\",\n",
      "  \"country_key\": 36,\n",
      "  \"country_code\": \"BRN\",\n",
      "  \"country_name\": \"Bahrain\",\n",
      "  \"meeting_name\": \"Bahrain Grand Prix\",\n",
      "  \"meeting_official_name\": \"FORMULA 1 GULF AIR BAHRAIN GRAND PRIX 2023\",\n",
      "  \"gmt_offset\": \"03:00:00\",\n",
      "  \"date_start\": \"2023-03-03T11:30:00+00:00\",\n",
      "  \"year\": 2023\n",
      "}\n",
      "{\n",
      "  \"meeting_key\": 1142,\n",
      "  \"circuit_key\": 149,\n",
      "  \"circuit_short_name\": \"Jeddah\",\n",
      "  \"meeting_code\": \"KSA\",\n",
      "  \"location\": \"Jeddah\",\n",
      "  \"country_key\": 153,\n",
      "  \"country_code\": \"KSA\",\n",
      "  \"country_name\": \"Saudi Arabia\",\n",
      "  \"meeting_name\": \"Saudi Arabian Grand Prix\",\n",
      "  \"meeting_official_name\": \"FORMULA 1 STC SAUDI ARABIAN GRAND PRIX 2023\",\n",
      "  \"gmt_offset\": \"03:00:00\",\n",
      "  \"date_start\": \"2023-03-17T13:30:00+00:00\",\n",
      "  \"year\": 2023\n",
      "}\n",
      "{\n",
      "  \"meeting_key\": 1143,\n",
      "  \"circuit_key\": 10,\n",
      "  \"circuit_short_name\": \"Melbourne\",\n",
      "  \"meeting_code\": \"AUS\",\n",
      "  \"location\": \"Melbourne\",\n",
      "  \"country_key\": 5,\n",
      "  \"country_code\": \"AUS\",\n",
      "  \"country_name\": \"Australia\",\n",
      "  \"meeting_name\": \"Australian Grand Prix\",\n",
      "  \"meeting_official_name\": \"FORMULA 1 ROLEX AUSTRALIAN GRAND PRIX 2023\",\n",
      "  \"gmt_offset\": \"11:00:00\",\n",
      "  \"date_start\": \"2023-03-31T01:30:00+00:00\",\n",
      "  \"year\": 2023\n",
      "}\n",
      "{\n",
      "  \"meeting_key\": 1207,\n",
      "  \"circuit_key\": 144,\n",
      "  \"circuit_short_name\": \"Baku\",\n",
      "  \"meeting_code\": \"AZE\",\n",
      "  \"location\": \"Baku\",\n",
      "  \"country_key\": 30,\n",
      "  \"country_code\": \"AZE\",\n",
      "  \"country_name\": \"Azerbaijan\",\n",
      "  \"meeting_name\": \"Azerbaijan Grand Prix\",\n",
      "  \"meeting_official_name\": \"FORMULA 1 AZERBAIJAN GRAND PRIX 2023\",\n",
      "  \"gmt_offset\": \"04:00:00\",\n",
      "  \"date_start\": \"2023-04-28T09:30:00+00:00\",\n",
      "  \"year\": 2023\n",
      "}\n"
     ]
    }
   ],
   "source": [
    "import urllib.request\n",
    "import json\n",
    "import sys\n",
    "\n",
    "def fetch_and_print_meetings():\n",
    "    API_URL = \"https://api.openf1.org/v1/meetings\"\n",
    "    \n",
    "\n",
    "    try:\n",
    "        req = urllib.request.Request(API_URL)\n",
    "        with urllib.request.urlopen(req) as response:\n",
    "            if response.getcode() != 200:\n",
    "                print(f\"Error: API returns {response.getcode()}\")\n",
    "                sys.exit(1) \n",
    "            \n",
    "            meetings_data = json.loads(response.read())\n",
    "        \n",
    "        if not meetings_data:\n",
    "            print(\"Info: No data from API side\")\n",
    "            return\n",
    "\n",
    "        for meeting in meetings_data[:5]:\n",
    "            print(json.dumps(meeting, indent=2))\n",
    "    \n",
    "\n",
    "    except urllib.error.URLError as e:\n",
    "        print(f\"Network error occurred: {e}\")\n",
    "    except json.JSONDecodeError:\n",
    "        print(\"Error parsing JSON response.\")\n",
    "\n",
    "if __name__ == \"__main__\":\n",
    "    fetch_and_print_meetings()"
   ]
  },
  {
   "cell_type": "code",
   "execution_count": null,
   "id": "d0b84952",
   "metadata": {},
   "outputs": [],
   "source": []
  }
 ],
 "metadata": {
  "kernelspec": {
   "display_name": "Python 3 (ipykernel)",
   "language": "python",
   "name": "python3"
  },
  "language_info": {
   "codemirror_mode": {
    "name": "ipython",
    "version": 3
   },
   "file_extension": ".py",
   "mimetype": "text/x-python",
   "name": "python",
   "nbconvert_exporter": "python",
   "pygments_lexer": "ipython3",
   "version": "3.10.2"
  }
 },
 "nbformat": 4,
 "nbformat_minor": 5
}
